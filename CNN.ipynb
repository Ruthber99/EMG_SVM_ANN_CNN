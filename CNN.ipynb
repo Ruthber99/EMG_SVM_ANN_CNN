{
 "cells": [
  {
   "attachments": {},
   "cell_type": "markdown",
   "metadata": {},
   "source": [
    "# **Libraries**"
   ]
  },
  {
   "cell_type": "code",
   "execution_count": 20,
   "metadata": {},
   "outputs": [],
   "source": [
    "import tensorflow as tf \n",
    "import pandas as pd\n",
    "import numpy as np\n",
    "from tensorflow.keras.models import Sequential\n",
    "from tensorflow.keras.layers import Conv2D, Dropout, Flatten, Dense, MaxPool2D, GlobalAveragePooling1D, Flatten \n",
    "from tensorflow.keras.callbacks import EarlyStopping\n",
    "from sklearn.model_selection import train_test_split\n",
    "from tensorflow.keras import regularizers\n",
    "import matplotlib.pyplot as plt"
   ]
  },
  {
   "attachments": {},
   "cell_type": "markdown",
   "metadata": {},
   "source": [
    "# **Import EMG Raw signal (CSV file)**"
   ]
  },
  {
   "cell_type": "code",
   "execution_count": 21,
   "metadata": {},
   "outputs": [
    {
     "data": {
      "text/html": [
       "<div>\n",
       "<style scoped>\n",
       "    .dataframe tbody tr th:only-of-type {\n",
       "        vertical-align: middle;\n",
       "    }\n",
       "\n",
       "    .dataframe tbody tr th {\n",
       "        vertical-align: top;\n",
       "    }\n",
       "\n",
       "    .dataframe thead th {\n",
       "        text-align: right;\n",
       "    }\n",
       "</style>\n",
       "<table border=\"1\" class=\"dataframe\">\n",
       "  <thead>\n",
       "    <tr style=\"text-align: right;\">\n",
       "      <th></th>\n",
       "      <th>Canal_1</th>\n",
       "      <th>Canal_2</th>\n",
       "      <th>Canal_3</th>\n",
       "      <th>Canal_4</th>\n",
       "      <th>Canal_5</th>\n",
       "      <th>Canal_6</th>\n",
       "      <th>Canal_7</th>\n",
       "      <th>Canal_8</th>\n",
       "      <th>Clase</th>\n",
       "    </tr>\n",
       "  </thead>\n",
       "  <tbody>\n",
       "    <tr>\n",
       "      <th>0</th>\n",
       "      <td>0.031250</td>\n",
       "      <td>-0.335938</td>\n",
       "      <td>-0.195312</td>\n",
       "      <td>-0.031250</td>\n",
       "      <td>0.078125</td>\n",
       "      <td>0.031250</td>\n",
       "      <td>0.078125</td>\n",
       "      <td>0.007812</td>\n",
       "      <td>0</td>\n",
       "    </tr>\n",
       "    <tr>\n",
       "      <th>1</th>\n",
       "      <td>-0.117188</td>\n",
       "      <td>0.304688</td>\n",
       "      <td>0.453125</td>\n",
       "      <td>0.140625</td>\n",
       "      <td>-0.070312</td>\n",
       "      <td>-0.007812</td>\n",
       "      <td>0.015625</td>\n",
       "      <td>-0.054688</td>\n",
       "      <td>0</td>\n",
       "    </tr>\n",
       "    <tr>\n",
       "      <th>2</th>\n",
       "      <td>-0.101562</td>\n",
       "      <td>-0.320312</td>\n",
       "      <td>-0.117188</td>\n",
       "      <td>0.109375</td>\n",
       "      <td>0.125000</td>\n",
       "      <td>0.023438</td>\n",
       "      <td>-0.015625</td>\n",
       "      <td>0.007812</td>\n",
       "      <td>0</td>\n",
       "    </tr>\n",
       "    <tr>\n",
       "      <th>3</th>\n",
       "      <td>-0.359375</td>\n",
       "      <td>-0.132812</td>\n",
       "      <td>-0.570312</td>\n",
       "      <td>-0.273438</td>\n",
       "      <td>-0.093750</td>\n",
       "      <td>-0.078125</td>\n",
       "      <td>-0.085938</td>\n",
       "      <td>-0.062500</td>\n",
       "      <td>0</td>\n",
       "    </tr>\n",
       "    <tr>\n",
       "      <th>4</th>\n",
       "      <td>0.281250</td>\n",
       "      <td>0.187500</td>\n",
       "      <td>0.570312</td>\n",
       "      <td>0.289062</td>\n",
       "      <td>0.101562</td>\n",
       "      <td>0.031250</td>\n",
       "      <td>0.031250</td>\n",
       "      <td>-0.093750</td>\n",
       "      <td>0</td>\n",
       "    </tr>\n",
       "    <tr>\n",
       "      <th>...</th>\n",
       "      <td>...</td>\n",
       "      <td>...</td>\n",
       "      <td>...</td>\n",
       "      <td>...</td>\n",
       "      <td>...</td>\n",
       "      <td>...</td>\n",
       "      <td>...</td>\n",
       "      <td>...</td>\n",
       "      <td>...</td>\n",
       "    </tr>\n",
       "    <tr>\n",
       "      <th>35995</th>\n",
       "      <td>0.000000</td>\n",
       "      <td>-0.007812</td>\n",
       "      <td>-0.023438</td>\n",
       "      <td>-0.007812</td>\n",
       "      <td>-0.007812</td>\n",
       "      <td>-0.015625</td>\n",
       "      <td>-0.007812</td>\n",
       "      <td>-0.007812</td>\n",
       "      <td>5</td>\n",
       "    </tr>\n",
       "    <tr>\n",
       "      <th>35996</th>\n",
       "      <td>0.000000</td>\n",
       "      <td>-0.015625</td>\n",
       "      <td>-0.007812</td>\n",
       "      <td>0.007812</td>\n",
       "      <td>-0.007812</td>\n",
       "      <td>-0.007812</td>\n",
       "      <td>-0.007812</td>\n",
       "      <td>0.007812</td>\n",
       "      <td>5</td>\n",
       "    </tr>\n",
       "    <tr>\n",
       "      <th>35997</th>\n",
       "      <td>-0.007812</td>\n",
       "      <td>-0.007812</td>\n",
       "      <td>0.000000</td>\n",
       "      <td>0.000000</td>\n",
       "      <td>-0.007812</td>\n",
       "      <td>-0.007812</td>\n",
       "      <td>0.000000</td>\n",
       "      <td>-0.015625</td>\n",
       "      <td>5</td>\n",
       "    </tr>\n",
       "    <tr>\n",
       "      <th>35998</th>\n",
       "      <td>0.000000</td>\n",
       "      <td>-0.007812</td>\n",
       "      <td>-0.007812</td>\n",
       "      <td>0.000000</td>\n",
       "      <td>-0.007812</td>\n",
       "      <td>-0.007812</td>\n",
       "      <td>-0.023438</td>\n",
       "      <td>-0.007812</td>\n",
       "      <td>5</td>\n",
       "    </tr>\n",
       "    <tr>\n",
       "      <th>35999</th>\n",
       "      <td>-0.015625</td>\n",
       "      <td>0.007812</td>\n",
       "      <td>0.007812</td>\n",
       "      <td>-0.007812</td>\n",
       "      <td>-0.023438</td>\n",
       "      <td>-0.015625</td>\n",
       "      <td>-0.031250</td>\n",
       "      <td>0.000000</td>\n",
       "      <td>5</td>\n",
       "    </tr>\n",
       "  </tbody>\n",
       "</table>\n",
       "<p>36000 rows × 9 columns</p>\n",
       "</div>"
      ],
      "text/plain": [
       "        Canal_1   Canal_2   Canal_3   Canal_4   Canal_5   Canal_6   Canal_7  \\\n",
       "0      0.031250 -0.335938 -0.195312 -0.031250  0.078125  0.031250  0.078125   \n",
       "1     -0.117188  0.304688  0.453125  0.140625 -0.070312 -0.007812  0.015625   \n",
       "2     -0.101562 -0.320312 -0.117188  0.109375  0.125000  0.023438 -0.015625   \n",
       "3     -0.359375 -0.132812 -0.570312 -0.273438 -0.093750 -0.078125 -0.085938   \n",
       "4      0.281250  0.187500  0.570312  0.289062  0.101562  0.031250  0.031250   \n",
       "...         ...       ...       ...       ...       ...       ...       ...   \n",
       "35995  0.000000 -0.007812 -0.023438 -0.007812 -0.007812 -0.015625 -0.007812   \n",
       "35996  0.000000 -0.015625 -0.007812  0.007812 -0.007812 -0.007812 -0.007812   \n",
       "35997 -0.007812 -0.007812  0.000000  0.000000 -0.007812 -0.007812  0.000000   \n",
       "35998  0.000000 -0.007812 -0.007812  0.000000 -0.007812 -0.007812 -0.023438   \n",
       "35999 -0.015625  0.007812  0.007812 -0.007812 -0.023438 -0.015625 -0.031250   \n",
       "\n",
       "        Canal_8  Clase  \n",
       "0      0.007812      0  \n",
       "1     -0.054688      0  \n",
       "2      0.007812      0  \n",
       "3     -0.062500      0  \n",
       "4     -0.093750      0  \n",
       "...         ...    ...  \n",
       "35995 -0.007812      5  \n",
       "35996  0.007812      5  \n",
       "35997 -0.015625      5  \n",
       "35998 -0.007812      5  \n",
       "35999  0.000000      5  \n",
       "\n",
       "[36000 rows x 9 columns]"
      ]
     },
     "execution_count": 21,
     "metadata": {},
     "output_type": "execute_result"
    }
   ],
   "source": [
    "df = pd.read_csv(r\"C:\\Users\\hpalm\\Downloads\\p1 (1).csv\")\n",
    "df"
   ]
  },
  {
   "attachments": {},
   "cell_type": "markdown",
   "metadata": {},
   "source": [
    "# **Train and Test set**"
   ]
  },
  {
   "cell_type": "code",
   "execution_count": 22,
   "metadata": {},
   "outputs": [],
   "source": [
    "X = df.iloc[:,:-1]\n",
    "y = df.iloc[:,8:]\n",
    "X = np.array(X[:])"
   ]
  },
  {
   "cell_type": "code",
   "execution_count": 23,
   "metadata": {},
   "outputs": [
    {
     "name": "stdout",
     "output_type": "stream",
     "text": [
      "Testing data shape :  (7200, 8) (7200, 1)\n",
      "Training data shape :  (23040, 8) (23040, 1)\n",
      "validation data shape :  (5760, 8) (5760, 1)\n"
     ]
    }
   ],
   "source": [
    "# Split data into train, test and validatio sets \n",
    "\n",
    "X_train, X_test, y_train, y_test= train_test_split(X, y,test_size=0.2,random_state=0, stratify=y)\n",
    "X_train, X_val, y_train, y_val= train_test_split(X_train, y_train,test_size=0.2,random_state=0, stratify=y_train)\n",
    "\n",
    "print('Testing data shape : ', X_test.shape, y_test.shape)\n",
    "print('Training data shape : ', X_train.shape, y_train.shape)\n",
    "print('validation data shape : ', X_val.shape, y_val.shape)"
   ]
  },
  {
   "cell_type": "code",
   "execution_count": 24,
   "metadata": {},
   "outputs": [
    {
     "data": {
      "text/plain": [
       "(5760, 8, 1, 1)"
      ]
     },
     "execution_count": 24,
     "metadata": {},
     "output_type": "execute_result"
    }
   ],
   "source": [
    "X_train_cnn = np.reshape(X_train,(X_train.shape[0], X_train.shape[1], 1, 1))\n",
    "X_test_cnn = np.reshape(X_test,(X_test.shape[0], X_test.shape[1], 1, 1))\n",
    "X_val_cnn = np.reshape(X_val,(X_val.shape[0], X_val.shape[1], 1, 1))\n",
    "X_val_cnn.shape"
   ]
  },
  {
   "attachments": {},
   "cell_type": "markdown",
   "metadata": {},
   "source": [
    "# **Build CNN and train**"
   ]
  },
  {
   "cell_type": "code",
   "execution_count": 25,
   "metadata": {},
   "outputs": [],
   "source": [
    "custom_early_stopping = EarlyStopping (monitor='loss', patience=3)"
   ]
  },
  {
   "cell_type": "code",
   "execution_count": 26,
   "metadata": {},
   "outputs": [
    {
     "name": "stdout",
     "output_type": "stream",
     "text": [
      "Model: \"sequential_1\"\n",
      "_________________________________________________________________\n",
      "Layer (type)                 Output Shape              Param #   \n",
      "=================================================================\n",
      "conv2d_4 (Conv2D)            (None, 8, 1, 64)          128       \n",
      "_________________________________________________________________\n",
      "conv2d_5 (Conv2D)            (None, 8, 1, 64)          36928     \n",
      "_________________________________________________________________\n",
      "max_pooling2d_3 (MaxPooling2 (None, 8, 1, 64)          0         \n",
      "_________________________________________________________________\n",
      "dropout_3 (Dropout)          (None, 8, 1, 64)          0         \n",
      "_________________________________________________________________\n",
      "conv2d_6 (Conv2D)            (None, 8, 1, 64)          12352     \n",
      "_________________________________________________________________\n",
      "max_pooling2d_4 (MaxPooling2 (None, 8, 1, 64)          0         \n",
      "_________________________________________________________________\n",
      "dropout_4 (Dropout)          (None, 8, 1, 64)          0         \n",
      "_________________________________________________________________\n",
      "conv2d_7 (Conv2D)            (None, 8, 1, 32)          2080      \n",
      "_________________________________________________________________\n",
      "max_pooling2d_5 (MaxPooling2 (None, 8, 1, 32)          0         \n",
      "_________________________________________________________________\n",
      "dropout_5 (Dropout)          (None, 8, 1, 32)          0         \n",
      "_________________________________________________________________\n",
      "flatten_1 (Flatten)          (None, 256)               0         \n",
      "_________________________________________________________________\n",
      "dense_1 (Dense)              (None, 6)                 1542      \n",
      "=================================================================\n",
      "Total params: 53,030\n",
      "Trainable params: 53,030\n",
      "Non-trainable params: 0\n",
      "_________________________________________________________________\n"
     ]
    }
   ],
   "source": [
    "#CNN \n",
    "\n",
    "model = Sequential()\n",
    "\n",
    "model.add(Conv2D(64, 1, strides=1, padding='same', activation='relu', input_shape=(((X_train.shape[1], 1, 1)))))\n",
    "model.add(Conv2D(64, (3,3), strides=1, padding='same', activation= \"relu\"))\n",
    "model.add(MaxPool2D(1,1))\n",
    "model.add(Dropout(0.25))\n",
    "\n",
    "model.add(Conv2D(64, (3,1), strides=1, padding='same', activation='relu'))\n",
    "model.add(MaxPool2D(1,1))\n",
    "model.add(Dropout(0.15))\n",
    "\n",
    "model.add(Conv2D(32, (1,1), strides=1, padding='same', activation='relu'))\n",
    "model.add(MaxPool2D(1,1))\n",
    "model.add(Dropout(0.15))\n",
    "\n",
    "model.add(Flatten())\n",
    "model.add(Dense(6, activation='softmax'))\n",
    "\n",
    "model.compile(loss='sparse_categorical_crossentropy', optimizer='adam', metrics=['accuracy'])\n",
    "model.summary()"
   ]
  },
  {
   "cell_type": "code",
   "execution_count": 27,
   "metadata": {},
   "outputs": [
    {
     "name": "stdout",
     "output_type": "stream",
     "text": [
      "Epoch 1/100\n",
      "90/90 [==============================] - 2s 19ms/step - loss: 1.5664 - accuracy: 0.3364\n",
      "Epoch 2/100\n",
      "90/90 [==============================] - 2s 18ms/step - loss: 1.2779 - accuracy: 0.4572\n",
      "Epoch 3/100\n",
      "90/90 [==============================] - 2s 21ms/step - loss: 1.2227 - accuracy: 0.4882\n",
      "Epoch 4/100\n",
      "90/90 [==============================] - 2s 19ms/step - loss: 1.1958 - accuracy: 0.5046\n",
      "Epoch 5/100\n",
      "90/90 [==============================] - 1s 16ms/step - loss: 1.1753 - accuracy: 0.5123\n",
      "Epoch 6/100\n",
      "90/90 [==============================] - 1s 15ms/step - loss: 1.1581 - accuracy: 0.5259\n",
      "Epoch 7/100\n",
      "90/90 [==============================] - 1s 16ms/step - loss: 1.1431 - accuracy: 0.5301\n",
      "Epoch 8/100\n",
      "90/90 [==============================] - 1s 17ms/step - loss: 1.1358 - accuracy: 0.5325\n",
      "Epoch 9/100\n",
      "90/90 [==============================] - 2s 17ms/step - loss: 1.1257 - accuracy: 0.5420\n",
      "Epoch 10/100\n",
      "90/90 [==============================] - 1s 16ms/step - loss: 1.1180 - accuracy: 0.5403\n",
      "Epoch 11/100\n",
      "90/90 [==============================] - 2s 17ms/step - loss: 1.1103 - accuracy: 0.5467\n",
      "Epoch 12/100\n",
      "90/90 [==============================] - 2s 18ms/step - loss: 1.1103 - accuracy: 0.5465\n",
      "Epoch 13/100\n",
      "90/90 [==============================] - 1s 16ms/step - loss: 1.1005 - accuracy: 0.5495\n",
      "Epoch 14/100\n",
      "90/90 [==============================] - 1s 16ms/step - loss: 1.1013 - accuracy: 0.5502\n",
      "Epoch 15/100\n",
      "90/90 [==============================] - 2s 18ms/step - loss: 1.0973 - accuracy: 0.5533\n",
      "Epoch 16/100\n",
      "90/90 [==============================] - 2s 17ms/step - loss: 1.0925 - accuracy: 0.5547\n",
      "Epoch 17/100\n",
      "90/90 [==============================] - 1s 17ms/step - loss: 1.0885 - accuracy: 0.5582\n",
      "Epoch 18/100\n",
      "90/90 [==============================] - 2s 17ms/step - loss: 1.0877 - accuracy: 0.5549\n",
      "Epoch 19/100\n",
      "90/90 [==============================] - 1s 16ms/step - loss: 1.0831 - accuracy: 0.5569\n",
      "Epoch 20/100\n",
      "90/90 [==============================] - 1s 17ms/step - loss: 1.0821 - accuracy: 0.5585\n",
      "Epoch 21/100\n",
      "90/90 [==============================] - 1s 16ms/step - loss: 1.0823 - accuracy: 0.5577\n",
      "Epoch 22/100\n",
      "90/90 [==============================] - 2s 17ms/step - loss: 1.0794 - accuracy: 0.5608\n",
      "Epoch 23/100\n",
      "90/90 [==============================] - 1s 16ms/step - loss: 1.0758 - accuracy: 0.5606\n",
      "Epoch 24/100\n",
      "90/90 [==============================] - 2s 17ms/step - loss: 1.0754 - accuracy: 0.5641\n",
      "Epoch 25/100\n",
      "90/90 [==============================] - 2s 18ms/step - loss: 1.0728 - accuracy: 0.5641\n",
      "Epoch 26/100\n",
      "90/90 [==============================] - 1s 16ms/step - loss: 1.0747 - accuracy: 0.5601\n",
      "Epoch 27/100\n",
      "90/90 [==============================] - 1s 17ms/step - loss: 1.0690 - accuracy: 0.5661\n",
      "Epoch 28/100\n",
      "90/90 [==============================] - 1s 16ms/step - loss: 1.0729 - accuracy: 0.5646\n",
      "Epoch 29/100\n",
      "90/90 [==============================] - 1s 16ms/step - loss: 1.0679 - accuracy: 0.5651\n",
      "Epoch 30/100\n",
      "90/90 [==============================] - 2s 17ms/step - loss: 1.0677 - accuracy: 0.5629\n",
      "Epoch 31/100\n",
      "90/90 [==============================] - 2s 19ms/step - loss: 1.0637 - accuracy: 0.5671\n",
      "Epoch 32/100\n",
      "90/90 [==============================] - 2s 17ms/step - loss: 1.0637 - accuracy: 0.5670\n",
      "Epoch 33/100\n",
      "90/90 [==============================] - 1s 16ms/step - loss: 1.0599 - accuracy: 0.5684\n",
      "Epoch 34/100\n",
      "90/90 [==============================] - 1s 16ms/step - loss: 1.0642 - accuracy: 0.5642\n",
      "Epoch 35/100\n",
      "90/90 [==============================] - 2s 17ms/step - loss: 1.0606 - accuracy: 0.5693\n",
      "Epoch 36/100\n",
      "90/90 [==============================] - 1s 16ms/step - loss: 1.0595 - accuracy: 0.5693\n",
      "Epoch 37/100\n",
      "90/90 [==============================] - 1s 17ms/step - loss: 1.0613 - accuracy: 0.5644\n",
      "Epoch 38/100\n",
      "90/90 [==============================] - 2s 18ms/step - loss: 1.0611 - accuracy: 0.5684\n",
      "Epoch 39/100\n",
      "90/90 [==============================] - 1s 16ms/step - loss: 1.0607 - accuracy: 0.5707\n"
     ]
    }
   ],
   "source": [
    "history = model.fit(X_train_cnn, y_train, batch_size=256,epochs=100, callbacks=[custom_early_stopping])"
   ]
  },
  {
   "cell_type": "markdown",
   "metadata": {},
   "source": [
    "# **Train curves**"
   ]
  },
  {
   "cell_type": "code",
   "execution_count": 28,
   "metadata": {},
   "outputs": [],
   "source": [
    "def visualizacion_resultados(history):\n",
    "  \n",
    "  fig, ax = plt.subplots(1,2)\n",
    "  acc = history.history['accuracy']\n",
    "  loss = history.history['loss']\n",
    "  #val_acc = history.history['val_accuracy']\n",
    "  #val_loss = history.history['val_loss']\n",
    "  epochs  = range(len(acc))\n",
    "  fig.set_size_inches(16,9)\n",
    "\n",
    "  ax[0].plot(epochs,acc,'go-',label = 'Entrenamiento accuracy')\n",
    "  #ax[0].plot(epochs,val_acc,'ro-',label = 'validacion acurracy')\n",
    "  ax[0].set_title('Entrenamiento & validacion accuracy')\n",
    "  ax[0].legend()\n",
    "  ax[0].set_xlabel('Epochs')\n",
    "  ax[0].set_ylabel('accuracy')\n",
    "\n",
    "  ax[1].plot(epochs,loss,'go-',label = 'Entrenamiento Loss')\n",
    "  #ax[1].plot(epochs,val_loss,'ro-',label = 'validacion Loss')\n",
    "  ax[1].set_title('Entrenamiento & validacion Test')\n",
    "  ax[1].legend()\n",
    "  ax[1].set_xlabel('Epochs')\n",
    "  ax[1].set_ylabel('Loss')\n",
    "\n",
    "  plt.show()"
   ]
  },
  {
   "cell_type": "code",
   "execution_count": 29,
   "metadata": {},
   "outputs": [
    {
     "data": {
      "image/png": "[encoded data removed]",
      "text/plain": [
       "<Figure size 1152x648 with 2 Axes>"
      ]
     },
     "metadata": {
      "needs_background": "light"
     },
     "output_type": "display_data"
    }
   ],
   "source": [
    "visualizacion_resultados(history)"
   ]
  },
  {
   "cell_type": "code",
   "execution_count": 30,
   "metadata": {},
   "outputs": [],
   "source": [
    "predicted_classes2 = model.predict(X_test_cnn)"
   ]
  },
  {
   "cell_type": "code",
   "execution_count": 31,
   "metadata": {},
   "outputs": [],
   "source": [
    "predicted_classes=[]\n",
    "for predicted_sport in predicted_classes2:\n",
    "    predicted_classes.append(predicted_sport.tolist().index(max(predicted_sport)))\n",
    "predicted_classes=np.array(predicted_classes)"
   ]
  },
  {
   "cell_type": "code",
   "execution_count": 32,
   "metadata": {},
   "outputs": [
    {
     "data": {
      "text/plain": [
       "((7200,), (7200, 1))"
      ]
     },
     "execution_count": 32,
     "metadata": {},
     "output_type": "execute_result"
    }
   ],
   "source": [
    "predicted_classes.shape, y_test.shape"
   ]
  },
  {
   "cell_type": "code",
   "execution_count": 33,
   "metadata": {},
   "outputs": [],
   "source": [
    "#rounded_labels = np.argmax(test_Y, axis=1)\n",
    "rounded_labels = y_test\n",
    "#rounded_labels[2]"
   ]
  },
  {
   "cell_type": "code",
   "execution_count": 34,
   "metadata": {},
   "outputs": [
    {
     "name": "stdout",
     "output_type": "stream",
     "text": [
      "225/225 [==============================] - 1s 3ms/step - loss: 1.0314 - accuracy: 0.5807\n"
     ]
    },
    {
     "data": {
      "text/plain": [
       "[1.0313669443130493, 0.5806944370269775]"
      ]
     },
     "execution_count": 34,
     "metadata": {},
     "output_type": "execute_result"
    }
   ],
   "source": [
    "model.evaluate(X_test_cnn,y_test)"
   ]
  },
  {
   "attachments": {},
   "cell_type": "markdown",
   "metadata": {},
   "source": [
    "# **Confusion Matrix**"
   ]
  },
  {
   "cell_type": "code",
   "execution_count": 35,
   "metadata": {},
   "outputs": [],
   "source": [
    "from sklearn.metrics import confusion_matrix\n",
    "import itertools\n",
    "\n",
    "\n",
    "#predicted_classes_m = np.argmax(predicted_classes,axis=1)\n",
    "#test_Y_m = np.argmax(test_Y,axis=1)\n",
    "#Esto es dificil de leer \n",
    "\n",
    "#confusion_matrix(test_Y, predicted_classes_m)\n",
    "\n",
    "cm = confusion_matrix(rounded_labels,predicted_classes)\n",
    "\n"
   ]
  },
  {
   "cell_type": "code",
   "execution_count": 36,
   "metadata": {},
   "outputs": [],
   "source": [
    "def plot_confusion_matrix(cm, classes,\n",
    "                          normalize=True,\n",
    "                          title='Confusion matrix',\n",
    "                          cmap=plt.cm.Blues):\n",
    "    \"\"\"\n",
    "    This function prints and plots the confusion matrix.\n",
    "    Normalization can be applied by setting `normalize=True`.\n",
    "    \"\"\"\n",
    "    plt.imshow(cm, interpolation='nearest', cmap=cmap)\n",
    "    plt.title(title)\n",
    "    plt.colorbar()\n",
    "    tick_marks = np.arange(len(classes))\n",
    "    plt.xticks(tick_marks, classes, rotation=45)\n",
    "    plt.yticks(tick_marks, classes)\n",
    "\n",
    "    if normalize:\n",
    "        cm = cm.astype('float') / cm.sum(axis=1)[:, np.newaxis]\n",
    "        print(\"Normalized confusion matrix\")\n",
    "    else:\n",
    "        print('Confusion matrix, without normalization')\n",
    "\n",
    "    print(cm)\n",
    "\n",
    "    thresh = cm.max() / 2.\n",
    "    for i, j in itertools.product(range(cm.shape[0]), range(cm.shape[1])):\n",
    "        plt.text(j, i, format(cm[i, j],'.2f'),\n",
    "                 horizontalalignment=\"center\",\n",
    "                 color=\"white\" if cm[i, j] > thresh else \"black\")\n",
    "\n",
    "    plt.tight_layout()\n",
    "    plt.ylabel('True label')\n",
    "    plt.xlabel('Predicted label')\n",
    "    #plt.savefig(r'C:\\Users\\hpalm\\Desktop\\Programacion\\Proyecto_de_grado\\Jupyter\\Matrices de confusion\\all_to_one_32_18_1_2deci.png', transparent = False, bbox_inches = 'tight')"
   ]
  },
  {
   "cell_type": "code",
   "execution_count": 37,
   "metadata": {},
   "outputs": [
    {
     "name": "stdout",
     "output_type": "stream",
     "text": [
      "Normalized confusion matrix\n",
      "[[4.68333333e-01 7.83333333e-02 1.33333333e-01 1.85000000e-01\n",
      "  1.28333333e-01 6.66666667e-03]\n",
      " [8.16666667e-02 4.70000000e-01 1.78333333e-01 6.75000000e-02\n",
      "  9.33333333e-02 1.09166667e-01]\n",
      " [1.20000000e-01 2.62500000e-01 3.78333333e-01 7.41666667e-02\n",
      "  1.36666667e-01 2.83333333e-02]\n",
      " [1.15000000e-01 6.16666667e-02 6.91666667e-02 6.15833333e-01\n",
      "  1.37500000e-01 8.33333333e-04]\n",
      " [8.83333333e-02 1.02500000e-01 8.91666667e-02 1.53333333e-01\n",
      "  5.59166667e-01 7.50000000e-03]\n",
      " [0.00000000e+00 7.50000000e-03 0.00000000e+00 0.00000000e+00\n",
      "  0.00000000e+00 9.92500000e-01]]\n"
     ]
    },
    {
     "data": {
      "image/png": "[encoded data removed]",
      "text/plain": [
       "<Figure size 432x288 with 2 Axes>"
      ]
     },
     "metadata": {
      "needs_background": "light"
     },
     "output_type": "display_data"
    }
   ],
   "source": [
    "cm_plot_labels = ['Clase_1','Clase_2','Clase_3','Clase_4','Clase_5','Clase_6']\n",
    "plot_confusion_matrix(cm,cm_plot_labels, title = 'Confusion Matrix')"
   ]
  },
  {
   "attachments": {},
   "cell_type": "markdown",
   "metadata": {},
   "source": [
    "# **Metrics**"
   ]
  },
  {
   "cell_type": "code",
   "execution_count": 38,
   "metadata": {},
   "outputs": [
    {
     "name": "stdout",
     "output_type": "stream",
     "text": [
      "Accuracy:  58.07\n",
      "F1 :  56.99\n",
      "Recall_Score:  58.07\n",
      "Precision :  57.35\n"
     ]
    }
   ],
   "source": [
    "from sklearn.metrics import accuracy_score, precision_score, recall_score, f1_score\n",
    "\n",
    "\n",
    "\n",
    "accuracy = accuracy_score(y_test, predicted_classes)\n",
    "precision = precision_score(y_test, predicted_classes, average='weighted')\n",
    "recall = recall_score(y_test, predicted_classes, average='weighted')\n",
    "f1 = f1_score(y_test, predicted_classes, average='weighted')\n",
    "\n",
    "print('Accuracy: ', \"%.2f\" % (accuracy*100))\n",
    "print('F1 : ', \"%.2f\" % (precision*100))\n",
    "print('Recall_Score: ', \"%.2f\" % (recall*100))\n",
    "print('Precision : ', \"%.2f\" % (f1*100))"
   ]
  },
  {
   "cell_type": "code",
   "execution_count": 39,
   "metadata": {},
   "outputs": [
    {
     "name": "stdout",
     "output_type": "stream",
     "text": [
      "              precision    recall  f1-score   support\n",
      "\n",
      "           0       0.54      0.47      0.50      1200\n",
      "           1       0.48      0.47      0.47      1200\n",
      "           2       0.45      0.38      0.41      1200\n",
      "           3       0.56      0.62      0.59      1200\n",
      "           4       0.53      0.56      0.54      1200\n",
      "           5       0.87      0.99      0.93      1200\n",
      "\n",
      "    accuracy                           0.58      7200\n",
      "   macro avg       0.57      0.58      0.57      7200\n",
      "weighted avg       0.57      0.58      0.57      7200\n",
      "\n"
     ]
    }
   ],
   "source": [
    "from sklearn.metrics import classification_report\n",
    "print(classification_report(y_test, predicted_classes))"
   ]
  }
 ],
 "metadata": {
  "kernelspec": {
   "display_name": "tfradeon",
   "language": "python",
   "name": "python3"
  },
  "language_info": {
   "codemirror_mode": {
    "name": "ipython",
    "version": 3
   },
   "file_extension": ".py",
   "mimetype": "text/x-python",
   "name": "python",
   "nbconvert_exporter": "python",
   "pygments_lexer": "ipython3",
   "version": "3.6.13"
  },
  "orig_nbformat": 4
 },
 "nbformat": 4,
 "nbformat_minor": 2
}
